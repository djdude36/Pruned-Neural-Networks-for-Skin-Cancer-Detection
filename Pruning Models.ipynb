{
 "cells": [
  {
   "cell_type": "markdown",
   "metadata": {},
   "source": [
    "# Import Essential Libraries #"
   ]
  },
  {
   "cell_type": "code",
   "execution_count": null,
   "metadata": {},
   "outputs": [],
   "source": [
    "import matplotlib.pyplot as plt\n",
    "import numpy as np\n",
    "import pandas as pd\n",
    "import os\n",
    "import random\n",
    "import cv2\n",
    "import pickle\n",
    "import tensorflow as tf\n",
    "tf.enable_eager_execution()\n",
    "\n",
    "from tensorflow.keras.preprocessing.image import img_to_array, load_img \n",
    "from sklearn.metrics import roc_curve, auc \n",
    "from tensorflow_model_optimization.sparsity import keras as sparsity\n",
    "\n",
    "#import keras\n",
    "#from keras.models import Sequential\n",
    "#from keras.layers import Dense, Dropout, Flatten, Conv2D, MaxPool2D\n",
    "#from keras.layers.normalization import BatchNormalization\n",
    "\n",
    "from datetime import datetime\n",
    "\n",
    "%load_ext tensorboard\n",
    "import tensorboard\n",
    "import tempfile\n",
    "import zipfile\n",
    "import os\n"
   ]
  },
  {
   "cell_type": "code",
   "execution_count": null,
   "metadata": {},
   "outputs": [],
   "source": [
    "adam_opt = tf.keras.optimizers.Adam(learning_rate= 1e-4)\n",
    "bce = tf.keras.losses.BinaryCrossentropy()\n",
    "\n",
    "def check_binarized_auc(test_dset, model, X_test, y_test):\n",
    "    '''Input:\n",
    "            test_dset: test dataset to analyze performance of model on unseen data\n",
    "            model: keras model trained previously\n",
    "            \n",
    "       Output:\n",
    "            None: print out test AUC in function\n",
    "    '''  \n",
    "    y_pred = model.predict(X_test).ravel()\n",
    "    fpr, tpr, threshold = roc_curve(y_test, y_pred)\n",
    "    auc_model = auc(fpr, tpr)\n",
    "    output = 'Test AUC: {}'\n",
    "    print(output.format(auc_model))\n",
    "    \n",
    "    #sens and spec at Youden's index\n",
    "    optimal_idx = np.argmax(tpr - fpr)\n",
    "    optimal_threshold = threshold[optimal_idx]\n",
    "    sens = tpr[optimal_idx]\n",
    "    spec = 1 - fpr[optimal_idx]\n",
    "    print('Sensitivity: ' + str(sens))\n",
    "    print('Specificity: ' + str(spec))\n",
    "    \n",
    "    plt.figure(1)\n",
    "    plt.plot([0, 1], [0, 1], 'k--')\n",
    "    plt.plot(fpr, tpr, label='Model (area = {:.3f})'.format(auc_model))\n",
    "    plt.xlabel('False positive rate')\n",
    "    plt.ylabel('True positive rate')\n",
    "    plt.title('ROC curve')\n",
    "    plt.legend(loc='best')\n",
    "    plt.show()\n",
    "    \n",
    "def loss_plot(hist, epoch=50):\n",
    "    plt.figure()\n",
    "    plt.plot(range(epoch), hist.history['loss'], label='Training loss')\n",
    "    plt.plot(range(epoch), hist.history['val_loss'], label='Validation loss')\n",
    "    plt.title('Training and Validation Loss')\n",
    "    plt.xlabel('Epoch')\n",
    "    plt.ylabel('Loss Value')\n",
    "    plt.legend()\n",
    "    # END CODE #\n",
    "    plt.show()\n",
    "\n",
    "#functions to get nonzero weights \n",
    "def total_nonzero_weights(model):\n",
    "    '''return total number of nonzero weights (total params)\n",
    "    includes non-trainable params'''\n",
    "    weights = model.get_weights()\n",
    "    count_nz = []\n",
    "    for i in range(len(weights)):\n",
    "        count_nz.append(np.count_nonzero(weights[i]))\n",
    "    return sum(count_nz)\n",
    "\n",
    "def total_nonzero_trainable_weights(model):\n",
    "    '''return total number of nonzero trainable weights'''\n",
    "    w = []\n",
    "    for v in model.trainable_variables:\n",
    "        w.append(tf.math.count_nonzero(v))\n",
    "    return sum(w)    \n",
    "\n",
    "print(\"Num GPUs Available: \", len(tf.config.experimental.list_physical_devices('GPU')))\n",
    "print(\"TF Version: \", tf.version.VERSION)"
   ]
  },
  {
   "cell_type": "code",
   "execution_count": null,
   "metadata": {},
   "outputs": [],
   "source": [
    "#ham10000_2k is still available\n",
    "\n",
    "#pickle.dump([X_train, y_train, X_tune, y_tune, X_test, y_test], open('ham10000_3.9k', 'wb'))\n",
    "#pickle.dump([iX_train, iy_train, iX_tune, iy_tune, iX_test, iy_test], open('ham10000_3.9k_i', 'wb'))\n",
    "\n",
    "X_train, y_train, X_tune, y_tune, X_test, y_test = pickle.load(open('ham10000_3.9k', 'rb'))\n",
    "iX_train, iy_train, iX_tune, iy_tune, iX_test, iy_test = pickle.load(open('ham10000_3.9k_i', 'rb'))"
   ]
  },
  {
   "cell_type": "code",
   "execution_count": null,
   "metadata": {},
   "outputs": [],
   "source": [
    "BATCH_SIZE = 16\n",
    "\n",
    "train_dset = tf.data.Dataset.from_tensor_slices((X_train, y_train)).batch(BATCH_SIZE)\n",
    "tune_dset = tf.data.Dataset.from_tensor_slices((X_tune, y_tune)).batch(BATCH_SIZE)\n",
    "test_dset = tf.data.Dataset.from_tensor_slices((X_test, y_test)).batch(BATCH_SIZE)\n",
    "\n",
    "itrain_dset = tf.data.Dataset.from_tensor_slices((iX_train, iy_train)).batch(BATCH_SIZE)\n",
    "itune_dset = tf.data.Dataset.from_tensor_slices((iX_tune, iy_tune)).batch(BATCH_SIZE)\n",
    "itest_dset = tf.data.Dataset.from_tensor_slices((iX_test, iy_test)).batch(BATCH_SIZE)"
   ]
  },
  {
   "cell_type": "code",
   "execution_count": null,
   "metadata": {},
   "outputs": [],
   "source": [
    "#save model\n",
    "#iv3_b.save('iv3_b.h5')\n",
    "\n",
    "iv3_b = tf.keras.models.load_model('iv3_b.h5')\n",
    "\n",
    "now = datetime.now()\n",
    "\n",
    "current_time = now.strftime(\"%H:%M:%S\")\n",
    "print(\"Current Time =\", current_time)"
   ]
  },
  {
   "cell_type": "markdown",
   "metadata": {},
   "source": [
    "# Evaluate Model"
   ]
  },
  {
   "cell_type": "code",
   "execution_count": null,
   "metadata": {
    "scrolled": false
   },
   "outputs": [],
   "source": [
    "iv3_b.evaluate(test_dset)"
   ]
  },
  {
   "cell_type": "markdown",
   "metadata": {},
   "source": [
    "Output with sigmoid, default lr, iv3_b: [1.69085515989941, 0.7810499]"
   ]
  },
  {
   "cell_type": "markdown",
   "metadata": {},
   "source": [
    "# Prune Model"
   ]
  },
  {
   "cell_type": "code",
   "execution_count": null,
   "metadata": {},
   "outputs": [],
   "source": [
    "#Using copied, not-compiled, pre-trained baseline model \n",
    "mod = False\n",
    "iv3_p = False\n",
    "iv3_f = False\n",
    "\n",
    "mod = tf.keras.models.clone_model(iv3_b)\n",
    "mod.set_weights(iv3_b.get_weights()) \n",
    "\n",
    "epochs = 5\n",
    "num_train_samples = X_train.shape[0]\n",
    "\n",
    "end_step = np.ceil(1.0 * num_train_samples / BATCH_SIZE).astype(np.int32) * epochs\n",
    "print(end_step)\n",
    "new_pruning_params = {\n",
    "      'pruning_schedule': sparsity.PolynomialDecay(initial_sparsity=0,\n",
    "                                                   final_sparsity=0.90,\n",
    "                                                   begin_step=0,\n",
    "                                                   end_step=end_step,\n",
    "                                                   frequency=100)\n",
    "}\n",
    "\n",
    "iv3_p = sparsity.prune_low_magnitude(mod, **new_pruning_params)\n",
    "iv3_p.summary()"
   ]
  },
  {
   "cell_type": "code",
   "execution_count": null,
   "metadata": {},
   "outputs": [],
   "source": [
    "iv3_p.compile(optimizer= adam_opt,\n",
    "              loss= bce,\n",
    "              metrics=['accuracy'])"
   ]
  },
  {
   "cell_type": "code",
   "execution_count": null,
   "metadata": {},
   "outputs": [],
   "source": [
    "# Clear any logs from previous runs\n",
    "!rm -rf ./logs/\n",
    "\n",
    "logdir = tempfile.mkdtemp()\n",
    "print('Writing training logs to ' + logdir)"
   ]
  },
  {
   "cell_type": "code",
   "execution_count": null,
   "metadata": {},
   "outputs": [],
   "source": [
    "%tensorboard --logdir={logdir}"
   ]
  },
  {
   "cell_type": "code",
   "execution_count": null,
   "metadata": {},
   "outputs": [],
   "source": [
    "# Add a pruning step callback to peg the pruning step to the optimizer's\n",
    "# step. Also add a callback to add pruning summaries to tensorboard\n",
    "callbacks = [\n",
    "    sparsity.UpdatePruningStep(),\n",
    "    sparsity.PruningSummaries(log_dir=logdir, profile_batch=0)\n",
    "]"
   ]
  },
  {
   "cell_type": "code",
   "execution_count": null,
   "metadata": {
    "scrolled": true
   },
   "outputs": [],
   "source": [
    "iv3_p_hist = iv3_p.fit(train_dset, \n",
    "                                  epochs=epochs,\n",
    "                                  verbose = 1,\n",
    "                                  callbacks=callbacks,\n",
    "                                  validation_data = tune_dset)"
   ]
  },
  {
   "cell_type": "code",
   "execution_count": null,
   "metadata": {},
   "outputs": [],
   "source": [
    "iv3_f = sparsity.strip_pruning(iv3_p)\n",
    "iv3_f.summary()"
   ]
  },
  {
   "cell_type": "markdown",
   "metadata": {},
   "source": [
    "# Evaluate Pruned Model"
   ]
  },
  {
   "cell_type": "code",
   "execution_count": null,
   "metadata": {},
   "outputs": [],
   "source": [
    "#save model\n",
    "#mn2_pruned.save('MN2_Pruned.h5')\n",
    "#iv3_f.save('iv3_f.h5')\n",
    "\n",
    "#iv3_f = tf.keras.models.load_model('iv3_f.h5')\n"
   ]
  },
  {
   "cell_type": "code",
   "execution_count": null,
   "metadata": {},
   "outputs": [],
   "source": [
    "iv3_p.evaluate(test_dset)"
   ]
  },
  {
   "cell_type": "markdown",
   "metadata": {},
   "source": [
    "output for iv3_p: [1.826846210932245, 0.77976954]"
   ]
  },
  {
   "cell_type": "code",
   "execution_count": null,
   "metadata": {},
   "outputs": [],
   "source": [
    "#need to compile final model before using it\n",
    "iv3_f.compile(optimizer= adam_opt,\n",
    "              loss= bce,\n",
    "              metrics=['accuracy'])\n",
    "\n",
    "iv3_f.evaluate(test_dset)"
   ]
  },
  {
   "cell_type": "code",
   "execution_count": null,
   "metadata": {
    "scrolled": false
   },
   "outputs": [],
   "source": [
    "check_binarized_auc(test_dset, iv3_p, X_test, y_test)\n",
    "#loss_plot(iv3_p_hist)"
   ]
  },
  {
   "cell_type": "code",
   "execution_count": null,
   "metadata": {},
   "outputs": [],
   "source": [
    "print(\"model:\", total_nonzero_weights(iv3_b),\n",
    "     \"\\n pruned:\", total_nonzero_weights(iv3_p),\n",
    "     \"\\n pruned final:\", total_nonzero_weights(iv3_f))"
   ]
  },
  {
   "cell_type": "code",
   "execution_count": null,
   "metadata": {},
   "outputs": [],
   "source": []
  }
 ],
 "metadata": {
  "kernelspec": {
   "display_name": "Python 3",
   "language": "python",
   "name": "python3"
  },
  "language_info": {
   "codemirror_mode": {
    "name": "ipython",
    "version": 3
   },
   "file_extension": ".py",
   "mimetype": "text/x-python",
   "name": "python",
   "nbconvert_exporter": "python",
   "pygments_lexer": "ipython3",
   "version": "3.6.10"
  }
 },
 "nbformat": 4,
 "nbformat_minor": 4
}
