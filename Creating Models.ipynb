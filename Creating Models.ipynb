{
 "cells": [
  {
   "cell_type": "markdown",
   "metadata": {},
   "source": [
    "# Import Libraries #"
   ]
  },
  {
   "cell_type": "code",
   "execution_count": null,
   "metadata": {},
   "outputs": [],
   "source": [
    "import matplotlib.pyplot as plt\n",
    "import numpy as np\n",
    "import pandas as pd\n",
    "import os\n",
    "import random\n",
    "import cv2\n",
    "import pickle\n",
    "import tensorflow as tf\n",
    "tf.enable_eager_execution()\n",
    "\n",
    "from tensorflow.keras.preprocessing.image import img_to_array, load_img \n",
    "from sklearn.metrics import roc_curve, auc \n",
    "from tensorflow_model_optimization.sparsity import keras as sparsity\n",
    "\n",
    "#import keras\n",
    "#from keras.models import Sequential\n",
    "#from keras.layers import Dense, Dropout, Flatten, Conv2D, MaxPool2D\n",
    "#from keras.layers.normalization import BatchNormalization\n",
    "\n",
    "from datetime import datetime\n",
    "\n",
    "%load_ext tensorboard\n",
    "import tensorboard\n",
    "import tempfile\n",
    "import zipfile\n",
    "import os\n"
   ]
  },
  {
   "cell_type": "code",
   "execution_count": null,
   "metadata": {},
   "outputs": [],
   "source": [
    "adam_opt = tf.keras.optimizers.Adam(learning_rate= 1e-3)\n",
    "bce = tf.keras.losses.BinaryCrossentropy()\n",
    "\n",
    "def check_binarized_auc(test_dset, model, X_test, y_test):\n",
    "    '''Input:\n",
    "            test_dset: test dataset to analyze performance of model on unseen data\n",
    "            model: keras model trained previously\n",
    "            \n",
    "       Output:\n",
    "            None: print out test AUC in function\n",
    "    '''  \n",
    "    y_pred = model.predict(X_test).ravel()\n",
    "    fpr, tpr, threshold = roc_curve(y_test, y_pred)\n",
    "    auc_model = auc(fpr, tpr)\n",
    "    output = 'Test AUC: {}'\n",
    "    print(output.format(auc_model))\n",
    "    \n",
    "    #sens and spec at Youden's index\n",
    "    optimal_idx = np.argmax(tpr - fpr)\n",
    "    optimal_threshold = threshold[optimal_idx]\n",
    "    sens = tpr[optimal_idx]\n",
    "    spec = 1 - fpr[optimal_idx]\n",
    "    print('Sensitivity: ' + str(sens))\n",
    "    print('Specificity: ' + str(spec))\n",
    "    \n",
    "    plt.figure(1)\n",
    "    plt.plot([0, 1], [0, 1], 'k--')\n",
    "    plt.plot(fpr, tpr, label='Model (area = {:.3f})'.format(auc_model))\n",
    "    plt.xlabel('False positive rate')\n",
    "    plt.ylabel('True positive rate')\n",
    "    plt.title('ROC curve')\n",
    "    plt.legend(loc='best')\n",
    "    plt.show()\n",
    "    \n",
    "def loss_plot(hist, epoch=50):\n",
    "    plt.figure()\n",
    "    plt.plot(range(epoch), hist.history['loss'], label='Training loss')\n",
    "    plt.plot(range(epoch), hist.history['val_loss'], label='Validation loss')\n",
    "    plt.title('Training and Validation Loss')\n",
    "    plt.xlabel('Epoch')\n",
    "    plt.ylabel('Loss Value')\n",
    "    plt.legend()\n",
    "    # END CODE #\n",
    "    plt.show()\n",
    "\n",
    "#functions to get nonzero weights \n",
    "def total_nonzero_weights(model):\n",
    "    '''return total number of nonzero weights (total params)\n",
    "    includes non-trainable params'''\n",
    "    weights = model.get_weights()\n",
    "    count_nz = []\n",
    "    for i in range(len(weights)):\n",
    "        count_nz.append(np.count_nonzero(weights[i]))\n",
    "    return sum(count_nz)\n",
    "\n",
    "def total_nonzero_trainable_weights(model):\n",
    "    '''return total number of nonzero trainable weights'''\n",
    "    w = []\n",
    "    for v in model.trainable_variables:\n",
    "        w.append(tf.math.count_nonzero(v))\n",
    "    return sum(w)    \n",
    "\n",
    "print(\"Num GPUs Available: \", len(tf.config.experimental.list_physical_devices('GPU')))\n",
    "print(\"TF Version: \", tf.version.VERSION)"
   ]
  },
  {
   "cell_type": "markdown",
   "metadata": {},
   "source": [
    "# Dictionary of images and labels #"
   ]
  },
  {
   "cell_type": "code",
   "execution_count": null,
   "metadata": {},
   "outputs": [],
   "source": [
    "IMAGE_PATH =  '/home/djun36/project/ham10000_images/' \n",
    "LABEL_PATH = '/home/djun36/project/HAM10000_metadata.csv' \n",
    "\n",
    "lesion_type_dict = {\n",
    "    'nv': 'Melanocytic nevi',\n",
    "    'mel': 'Melanoma',\n",
    "    'bkl': 'Benign keratosis-like lesions',\n",
    "    'bcc': 'Basal cell carcinoma',\n",
    "    'akiec': 'Actinic keratoses', #Because it can become cancerous, it's usually removed as a precaution.\n",
    "    'vasc': 'Vascular lesions',\n",
    "    'df': 'Dermatofibroma'\n",
    "}\n",
    "\n",
    "# Dictionary for binary Malignant and Benign labels. May want to change the terminology because of akiec \n",
    "lesion_referral_dict = {\n",
    "    'nv': 'Benign',\n",
    "    'mel': 'Malignant',\n",
    "    'bkl': 'Benign',\n",
    "    'bcc': 'Malignant',\n",
    "    'akiec': 'Malignant',\n",
    "    'vasc': 'Benign',\n",
    "    'df': 'Benign'\n",
    "}"
   ]
  },
  {
   "cell_type": "markdown",
   "metadata": {},
   "source": [
    "# Process data #"
   ]
  },
  {
   "cell_type": "code",
   "execution_count": null,
   "metadata": {},
   "outputs": [],
   "source": [
    "skin_df = pd.read_csv(LABEL_PATH)\n",
    "\n",
    "# Creating New Columns for better readability\n",
    "\n",
    "#skin_df['path'] = skin_df['image_id'].map(imageid_path_dict.get)\n",
    "skin_df['cell_type'] = skin_df['dx'].map(lesion_type_dict.get) \n",
    "skin_df['cell_type_idx'] = pd.Categorical(skin_df['cell_type']).codes\n",
    "\n",
    "skin_df['referral'] = skin_df['dx'].map(lesion_referral_dict.get)"
   ]
  },
  {
   "cell_type": "code",
   "execution_count": null,
   "metadata": {
    "scrolled": true
   },
   "outputs": [],
   "source": [
    "# Now lets see the sample of tile_df to look on newly made columns\n",
    "skin_df.head()"
   ]
  },
  {
   "cell_type": "markdown",
   "metadata": {},
   "source": [
    "# Data Cleaning #"
   ]
  },
  {
   "cell_type": "code",
   "execution_count": null,
   "metadata": {},
   "outputs": [],
   "source": [
    "skin_df.isnull().sum()"
   ]
  },
  {
   "cell_type": "code",
   "execution_count": null,
   "metadata": {},
   "outputs": [],
   "source": [
    "skin_df['age'].fillna((skin_df['age'].mean()), inplace=True)"
   ]
  },
  {
   "cell_type": "code",
   "execution_count": null,
   "metadata": {},
   "outputs": [],
   "source": [
    "skin_df.isnull().sum()"
   ]
  },
  {
   "cell_type": "code",
   "execution_count": null,
   "metadata": {},
   "outputs": [],
   "source": [
    "print(skin_df.dtypes)"
   ]
  },
  {
   "cell_type": "markdown",
   "metadata": {},
   "source": [
    "# Data Viz #"
   ]
  },
  {
   "cell_type": "code",
   "execution_count": null,
   "metadata": {},
   "outputs": [],
   "source": [
    "# Plot to see distribution of 7 different classes of cell type\n",
    "fig, ax1 = plt.subplots(1, 1, figsize= (10, 5))\n",
    "skin_df['cell_type'].value_counts().plot(kind='bar', ax=ax1)"
   ]
  },
  {
   "cell_type": "code",
   "execution_count": null,
   "metadata": {},
   "outputs": [],
   "source": [
    "skin_df['dx_type'].value_counts().plot(kind='bar')"
   ]
  },
  {
   "cell_type": "code",
   "execution_count": null,
   "metadata": {},
   "outputs": [],
   "source": [
    "skin_df['localization'].value_counts().plot(kind='bar')"
   ]
  },
  {
   "cell_type": "code",
   "execution_count": null,
   "metadata": {},
   "outputs": [],
   "source": [
    "skin_df['referral'].value_counts().plot(kind='bar')\n",
    "\n",
    "print(skin_df['referral'].value_counts())\n",
    "print('Benign %', 8061/10015, '\\nMalignant %', 1954/10015)"
   ]
  },
  {
   "cell_type": "markdown",
   "metadata": {},
   "source": [
    "# Balancing Dataset #\n",
    "Randomly sample 1954 images from each class"
   ]
  },
  {
   "cell_type": "code",
   "execution_count": null,
   "metadata": {},
   "outputs": [],
   "source": [
    "no_ref = skin_df.loc[skin_df['referral'] == 'Benign']['image_id'].values.tolist()\n",
    "ref = skin_df.loc[skin_df['referral'] == 'Malignant']['image_id'].values.tolist()\n",
    "\n",
    "random.seed(1)\n",
    "no_refer_examples = random.sample(no_ref, 1954)\n",
    "refer_examples = random.sample(ref, 1954)\n",
    "\n",
    "all_files = no_refer_examples + refer_examples\n",
    "random.shuffle(all_files)"
   ]
  },
  {
   "cell_type": "markdown",
   "metadata": {},
   "source": [
    "# Resizing Images and Splitting Data #\n",
    "Split data into train, tune, test with 0.6, 0.2, 0.2 split"
   ]
  },
  {
   "cell_type": "code",
   "execution_count": null,
   "metadata": {},
   "outputs": [],
   "source": [
    "IMAGE_SIZE = (224, 224)\n",
    "\n",
    "def load_data(all_files, IMAGE_SIZE):\n",
    "    '''Input:\n",
    "            all_files: list of image names to load in\n",
    "            \n",
    "       Output:\n",
    "            X_train, X_tune, X_test: preprocessed images split in 0.6, 0.2, 0.2 respectively\n",
    "            y_train, y_tune, y_test: binary labels split in 0.6, 0.2, 0.2 respectively\n",
    "    '''  \n",
    "    \n",
    "    train_images = []\n",
    "    train_labels = []\n",
    "    \n",
    "    #random.seed(1)\n",
    "    #random.shuffle(all_files)\n",
    "    labels_df = pd.read_csv(LABEL_PATH)\n",
    "\n",
    "    for file in all_files:\n",
    "        \n",
    "        # FILL IN CODE HERE #\n",
    "        \n",
    "        img = load_img(IMAGE_PATH + file + '.jpg')\n",
    "        array = img_to_array(img)\n",
    "        resize = cv2.resize(array, IMAGE_SIZE, interpolation = cv2.INTER_LANCZOS4)\n",
    "        norm_img = cv2.normalize(resize, None, 0, 1, norm_type=cv2.NORM_MINMAX)  #normalize image to 0 to 1\n",
    "        \n",
    "        if file in no_refer_examples:\n",
    "            img_label = 0\n",
    "        else:\n",
    "            img_label = 1\n",
    "         \n",
    "        train_images.append(norm_img)\n",
    "        train_labels.append(img_label)\n",
    "        \n",
    "        # END CODE #\n",
    "\n",
    "    all_images = np.stack(train_images)\n",
    "    all_labels = np.array(train_labels).flatten()\n",
    "    \n",
    "    total_data = len(all_images)\n",
    "    num_train = round(total_data * 0.6)\n",
    "    num_tune = round(total_data * 0.2)\n",
    "    num_test = round(total_data * 0.2)\n",
    "    \n",
    "    # FILL IN CODE HERE #\n",
    "    \n",
    "    X_train = all_images[0:num_train]\n",
    "    y_train = all_labels[0:num_train]\n",
    "    X_tune = all_images[num_train: (num_train + num_tune)]\n",
    "    y_tune = all_labels[num_train: (num_train + num_tune)]\n",
    "    X_test = all_images[(num_train + num_tune):]\n",
    "    y_test = all_labels[(num_train + num_tune):]\n",
    "    \n",
    "    # END CODE #\n",
    "\n",
    "    return X_train, y_train, X_tune, y_tune, X_test, y_test\n",
    "\n",
    "X_train, y_train, X_tune, y_tune, X_test, y_test = load_data(all_files, IMAGE_SIZE)"
   ]
  },
  {
   "cell_type": "code",
   "execution_count": null,
   "metadata": {},
   "outputs": [],
   "source": [
    "#for iv3 data with size (299, 299)\n",
    "iX_train, iy_train, iX_tune, iy_tune, iX_test, iy_test = load_data(all_files, (299, 299))"
   ]
  },
  {
   "cell_type": "code",
   "execution_count": null,
   "metadata": {},
   "outputs": [],
   "source": [
    "#pickle.dump([X_train, y_train, X_tune, y_tune, X_test, y_test], open('ham10000_3.9k', 'wb'))\n",
    "#pickle.dump([iX_train, iy_train, iX_tune, iy_tune, iX_test, iy_test], open('ham10000_3.9k_i', 'wb'))\n",
    "\n",
    "X_train, y_train, X_tune, y_tune, X_test, y_test = pickle.load(open('ham10000_3.9k', 'rb'))\n",
    "iX_train, iy_train, iX_tune, iy_tune, iX_test, iy_test = pickle.load(open('ham10000_3.9k_i', 'rb'))"
   ]
  },
  {
   "cell_type": "code",
   "execution_count": null,
   "metadata": {},
   "outputs": [],
   "source": [
    "BATCH_SIZE = 16\n",
    "\n",
    "train_dset = tf.data.Dataset.from_tensor_slices((X_train, y_train)).batch(BATCH_SIZE)\n",
    "tune_dset = tf.data.Dataset.from_tensor_slices((X_tune, y_tune)).batch(BATCH_SIZE)\n",
    "test_dset = tf.data.Dataset.from_tensor_slices((X_test, y_test)).batch(BATCH_SIZE)\n",
    "\n",
    "itrain_dset = tf.data.Dataset.from_tensor_slices((iX_train, iy_train)).batch(BATCH_SIZE)\n",
    "itune_dset = tf.data.Dataset.from_tensor_slices((iX_tune, iy_tune)).batch(BATCH_SIZE)\n",
    "itest_dset = tf.data.Dataset.from_tensor_slices((iX_test, iy_test)).batch(BATCH_SIZE)"
   ]
  },
  {
   "cell_type": "code",
   "execution_count": null,
   "metadata": {},
   "outputs": [],
   "source": [
    "for i in range(5):\n",
    "    plt.imshow(X_train[i]) # Shows the image on a plot\n",
    "    plt.title(y_train[i]) # Titles the image with the label\n",
    "    plt.show()"
   ]
  },
  {
   "cell_type": "markdown",
   "metadata": {},
   "source": [
    "# Create MN2 baseline model\n",
    "We will be using a MobileNet (https://arxiv.org/abs/1704.04861) pre-trained on ImageNet as our base model and fine-tuning it on our dataset."
   ]
  },
  {
   "cell_type": "code",
   "execution_count": null,
   "metadata": {},
   "outputs": [],
   "source": [
    "mn2 = tf.keras.applications.mobilenet_v2.MobileNetV2(weights='imagenet')"
   ]
  },
  {
   "cell_type": "code",
   "execution_count": null,
   "metadata": {},
   "outputs": [],
   "source": [
    "# Let's take a look to see how many layers are in the base model\n",
    "print(\"Number of layers in the base model: \", len(mn2.layers))\n",
    "\n",
    "# Fine-tune from this layer onwards\n",
    "mn2.trainable = True\n",
    "fine_tune_at = 0\n",
    "\n",
    "# Freeze all the layers before the `fine_tune_at` layer\n",
    "for layer in mn2.layers[:fine_tune_at]:\n",
    "  layer.trainable =  False\n",
    "\n",
    "mn2.summary()"
   ]
  },
  {
   "cell_type": "code",
   "execution_count": null,
   "metadata": {},
   "outputs": [],
   "source": [
    "# Build the model\n",
    "h1 = tf.keras.layers.GlobalAveragePooling2D()(mn2.layers[-3].output) \n",
    "prediction = tf.keras.layers.Dense(units = 1, activation = 'sigmoid')(h1)\n",
    "mn2_b = tf.keras.Model(inputs=mn2.input, outputs=prediction)\n",
    "\n",
    "adam_opt = tf.keras.optimizers.Adam(learning_rate= 1e-3)\n",
    "bce = tf.keras.losses.BinaryCrossentropy()\n",
    "\n",
    "mn2_b.compile(optimizer= adam_opt,\n",
    "              loss= bce,\n",
    "              metrics=['accuracy'])"
   ]
  },
  {
   "cell_type": "code",
   "execution_count": null,
   "metadata": {
    "scrolled": true
   },
   "outputs": [],
   "source": [
    "mn2_b_hist = mn2_b.fit(train_dset, \n",
    "                 epochs=50,  \n",
    "                 validation_data = tune_dset)"
   ]
  },
  {
   "cell_type": "code",
   "execution_count": null,
   "metadata": {},
   "outputs": [],
   "source": [
    "#save model\n",
    "mn2_b.save('mn2_b.h5')\n",
    "\n",
    "#mn2_b = tf.keras.models.load_model('mn2_b.h5')\n",
    "\n",
    "now = datetime.now()\n",
    "\n",
    "current_time = now.strftime(\"%H:%M:%S\")\n",
    "print(\"Current Time =\", current_time)"
   ]
  },
  {
   "cell_type": "markdown",
   "metadata": {},
   "source": [
    "# Evaluate Model"
   ]
  },
  {
   "cell_type": "code",
   "execution_count": null,
   "metadata": {},
   "outputs": [],
   "source": [
    "mn2_b.evaluate(test_dset)"
   ]
  },
  {
   "cell_type": "markdown",
   "metadata": {},
   "source": [
    "Output with sigmoid, default lr, mn2_b: [1.1074739817757995, 0.8002561]"
   ]
  },
  {
   "cell_type": "code",
   "execution_count": null,
   "metadata": {},
   "outputs": [],
   "source": [
    "check_binarized_auc(test_dset, mn2_b, X_test, y_test)\n",
    "loss_plot(mn2_b_hist)"
   ]
  },
  {
   "cell_type": "markdown",
   "metadata": {},
   "source": [
    "# Create Inception V3 baseline model"
   ]
  },
  {
   "cell_type": "code",
   "execution_count": null,
   "metadata": {
    "scrolled": true
   },
   "outputs": [],
   "source": [
    "iv3 = tf.keras.applications.InceptionV3(weights='imagenet')\n",
    "#mobileNet = tf.keras.applications.MobileNet()\n",
    "iv3.summary()"
   ]
  },
  {
   "cell_type": "code",
   "execution_count": null,
   "metadata": {},
   "outputs": [],
   "source": [
    "# Let's take a look to see how many layers are in the base model\n",
    "\n",
    "# Fine-tune from this layer onwards\n",
    "iv3.trainable = True\n",
    "fine_tune_at = 0\n",
    "\n",
    "# Freeze all the layers before the `fine_tune_at` layer\n",
    "for layer in iv3.layers[:fine_tune_at]:\n",
    "  layer.trainable =  False\n",
    "\n",
    "iv3.summary()\n",
    "print(\"Number of layers in the base model: \", len(iv3.layers))\n",
    "#print(\"trainable layers: \", len(iv3.trainable_variables))"
   ]
  },
  {
   "cell_type": "code",
   "execution_count": null,
   "metadata": {},
   "outputs": [],
   "source": [
    "# Build the model\n",
    "d1 = tf.keras.layers.Dropout(0.5)(iv3.layers[-3].output) \n",
    "h1 = tf.keras.layers.GlobalAveragePooling2D()(d1) #(iv3.layers[-3].output) \n",
    "prediction = tf.keras.layers.Dense(units = 1, activation = 'sigmoid')(h1)\n",
    "iv3_b = tf.keras.Model(inputs=iv3.input, outputs=prediction)\n",
    "\n",
    "adam_opt = tf.keras.optimizers.Adam(learning_rate= 1e-3)\n",
    "bce = tf.keras.losses.BinaryCrossentropy()\n",
    "\n",
    "iv3_b.compile(optimizer= adam_opt,\n",
    "              loss= bce,\n",
    "              metrics=['accuracy'])"
   ]
  },
  {
   "cell_type": "code",
   "execution_count": null,
   "metadata": {
    "scrolled": true
   },
   "outputs": [],
   "source": [
    "iv3_b_hist = iv3_b.fit(itrain_dset, \n",
    "                 epochs=50, \n",
    "                 #callbacks = [lr_scheduler], \n",
    "                 validation_data = itune_dset)"
   ]
  },
  {
   "cell_type": "code",
   "execution_count": null,
   "metadata": {},
   "outputs": [],
   "source": [
    "#save model\n",
    "#iv3_b.save('iv3_b.h5')\n",
    "\n",
    "iv3_b = tf.keras.models.load_model('iv3_b.h5')\n",
    "\n",
    "now = datetime.now()\n",
    "\n",
    "current_time = now.strftime(\"%H:%M:%S\")\n",
    "print(\"Current Time =\", current_time)"
   ]
  },
  {
   "cell_type": "markdown",
   "metadata": {},
   "source": [
    "# Evaluate Model"
   ]
  },
  {
   "cell_type": "code",
   "execution_count": null,
   "metadata": {},
   "outputs": [],
   "source": [
    "iv3_b.evaluate(itest_dset)"
   ]
  },
  {
   "cell_type": "markdown",
   "metadata": {},
   "source": [
    "Output with sigmoid, default lr, iv3_b: [1.69085515989941, 0.7810499]"
   ]
  },
  {
   "cell_type": "code",
   "execution_count": null,
   "metadata": {},
   "outputs": [],
   "source": [
    "check_binarized_auc(itest_dset, iv3_b, iX_test, iy_test)\n",
    "loss_plot(iv3_b_hist)"
   ]
  },
  {
   "cell_type": "markdown",
   "metadata": {},
   "source": [
    "# Create ResNet50v2 baseline model"
   ]
  },
  {
   "cell_type": "code",
   "execution_count": null,
   "metadata": {},
   "outputs": [],
   "source": [
    "rn50 = tf.keras.applications.ResNet50V2(weights='imagenet')\n",
    "rn50.summary()"
   ]
  },
  {
   "cell_type": "code",
   "execution_count": null,
   "metadata": {},
   "outputs": [],
   "source": [
    "# Let's take a look to see how many layers are in the base model\n",
    "\n",
    "# Fine-tune from this layer onwards\n",
    "rn50.trainable = True\n",
    "fine_tune_at = 0\n",
    "\n",
    "# Freeze all the layers before the `fine_tune_at` layer\n",
    "for layer in rn50.layers[:fine_tune_at]:\n",
    "  layer.trainable =  False\n",
    "\n",
    "rn50.summary()\n",
    "print(\"Number of layers in the base model: \", len(rn50.layers))\n",
    "print(\"trainable layers: \", len(rn50.trainable_variables))"
   ]
  },
  {
   "cell_type": "code",
   "execution_count": null,
   "metadata": {},
   "outputs": [],
   "source": [
    "# Build the model\n",
    "h1 = tf.keras.layers.GlobalAveragePooling2D()(rn50.layers[-3].output) \n",
    "prediction = tf.keras.layers.Dense(units = 1, activation = 'sigmoid')(h1)\n",
    "rn50_b = tf.keras.Model(inputs=rn50.input, outputs=prediction)\n",
    "\n",
    "adam_opt = tf.keras.optimizers.Adam(learning_rate= 1e-3)\n",
    "bce = tf.keras.losses.BinaryCrossentropy()\n",
    "\n",
    "rn50_b.summary()\n",
    "print(\"Number of layers in the base model: \", len(rn50_b.layers))\n",
    "print(\"trainable layers: \", len(rn50_b.trainable_variables))\n",
    "\n",
    "'''rn50_b.compile(optimizer= adam_opt,\n",
    "              loss= bce,\n",
    "              metrics=['accuracy'])'''"
   ]
  },
  {
   "cell_type": "code",
   "execution_count": null,
   "metadata": {},
   "outputs": [],
   "source": [
    "rn50_b_hist = rn50_b.fit(train_dset, \n",
    "                 epochs=75, \n",
    "                 #callbacks = [lr_scheduler], \n",
    "                 validation_data = tune_dset)"
   ]
  },
  {
   "cell_type": "code",
   "execution_count": null,
   "metadata": {},
   "outputs": [],
   "source": [
    "#save model\n",
    "rn50_b.save('rn50_b.h5')\n",
    "\n",
    "#iv3_b = tf.keras.models.load_model('iv3_b.h5')\n",
    "\n",
    "now = datetime.now()\n",
    "\n",
    "current_time = now.strftime(\"%H:%M:%S\")\n",
    "print(\"Current Time =\", current_time)"
   ]
  },
  {
   "cell_type": "markdown",
   "metadata": {},
   "source": [
    "# Evaluate Model"
   ]
  },
  {
   "cell_type": "code",
   "execution_count": null,
   "metadata": {},
   "outputs": [],
   "source": [
    "rn50_b.summary()"
   ]
  },
  {
   "cell_type": "code",
   "execution_count": null,
   "metadata": {},
   "outputs": [],
   "source": [
    "rn50_b.evaluate(test_dset)"
   ]
  },
  {
   "cell_type": "code",
   "execution_count": null,
   "metadata": {},
   "outputs": [],
   "source": [
    "check_binarized_auc(test_dset, rn50_b, X_test, y_test)\n",
    "loss_plot(rn50_b_hist, 75)"
   ]
  },
  {
   "cell_type": "markdown",
   "metadata": {},
   "source": [
    "# Create ResNet152v2 baseline model"
   ]
  },
  {
   "cell_type": "code",
   "execution_count": null,
   "metadata": {},
   "outputs": [],
   "source": [
    "rn152 = tf.keras.applications.ResNet152V2(weights='imagenet')\n",
    "#mobileNet = tf.keras.applications.MobileNet()\n",
    "rn152.summary()"
   ]
  },
  {
   "cell_type": "code",
   "execution_count": null,
   "metadata": {},
   "outputs": [],
   "source": [
    "#rn50\n",
    "rn152 = tf.keras.applications.ResNet50V2(weights='imagenet')\n",
    "rn152.summary()"
   ]
  },
  {
   "cell_type": "code",
   "execution_count": null,
   "metadata": {},
   "outputs": [],
   "source": [
    "# Let's take a look to see how many layers are in the base model\n",
    "\n",
    "# Fine-tune from this layer onwards\n",
    "rn152.trainable = True\n",
    "fine_tune_at = 0\n",
    "\n",
    "# Freeze all the layers before the `fine_tune_at` layer\n",
    "for layer in rn152.layers[:fine_tune_at]:\n",
    "  layer.trainable =  False\n",
    "\n",
    "rn152.summary()\n",
    "print(\"Number of layers in the base model: \", len(rn152.layers))\n",
    "#print(\"trainable layers: \", len(iv3.trainable_variables))"
   ]
  },
  {
   "cell_type": "code",
   "execution_count": null,
   "metadata": {},
   "outputs": [],
   "source": [
    "# Build the model\n",
    "h1 = tf.keras.layers.GlobalAveragePooling2D()(rn152.layers[-3].output) \n",
    "prediction = tf.keras.layers.Dense(units = 1, activation = 'sigmoid')(h1)\n",
    "rn152_b = tf.keras.Model(inputs=rn152.input, outputs=prediction)\n",
    "\n",
    "adam_opt = tf.keras.optimizers.Adam(learning_rate= 1e-2)\n",
    "bce = tf.keras.losses.BinaryCrossentropy()\n",
    "\n",
    "rn152_b.compile(optimizer= adam_opt,\n",
    "              loss= bce,\n",
    "              metrics=['accuracy'])"
   ]
  },
  {
   "cell_type": "code",
   "execution_count": null,
   "metadata": {
    "scrolled": true
   },
   "outputs": [],
   "source": [
    "rn152_b_hist = rn152_b.fit(train_dset, \n",
    "                 epochs=50, \n",
    "                 #callbacks = [lr_scheduler], \n",
    "                 validation_data = tune_dset)"
   ]
  },
  {
   "cell_type": "code",
   "execution_count": null,
   "metadata": {},
   "outputs": [],
   "source": [
    "#save model\n",
    "#rn152_b.save('rn50_b_l4.h5')\n",
    "\n",
    "rn152_b = tf.keras.models.load_model('rn152_b.h5')\n",
    "\n",
    "now = datetime.now()\n",
    "\n",
    "current_time = now.strftime(\"%H:%M:%S\")\n",
    "print(\"Current Time =\", current_time)"
   ]
  },
  {
   "cell_type": "code",
   "execution_count": null,
   "metadata": {},
   "outputs": [],
   "source": [
    "rn152_b.summary()"
   ]
  },
  {
   "cell_type": "code",
   "execution_count": null,
   "metadata": {},
   "outputs": [],
   "source": [
    "print(\"model:\", total_nonzero_weights(rn152_b))"
   ]
  },
  {
   "cell_type": "markdown",
   "metadata": {},
   "source": [
    "# Evaluate Model"
   ]
  },
  {
   "cell_type": "code",
   "execution_count": null,
   "metadata": {},
   "outputs": [],
   "source": [
    "rn152_b.evaluate(test_dset)"
   ]
  },
  {
   "cell_type": "markdown",
   "metadata": {},
   "source": [
    "Output with sigmoid, default lr, rn152_b: [2.0673098316302103, 0.73367476]"
   ]
  },
  {
   "cell_type": "code",
   "execution_count": null,
   "metadata": {},
   "outputs": [],
   "source": [
    "check_binarized_auc(test_dset, rn152_b, X_test, y_test)\n",
    "loss_plot(rn152_b_hist, 50)"
   ]
  },
  {
   "cell_type": "markdown",
   "metadata": {},
   "source": [
    "# Evaluating Wrong Predictions"
   ]
  },
  {
   "cell_type": "code",
   "execution_count": null,
   "metadata": {},
   "outputs": [],
   "source": [
    "mn2_b = tf.keras.models.load_model('mn2_b.h5')"
   ]
  },
  {
   "cell_type": "code",
   "execution_count": null,
   "metadata": {},
   "outputs": [],
   "source": [
    "num_train = round(len(all_files) * 0.6)\n",
    "num_tune = round(len(all_files) * 0.2)\n",
    "y_test_images = all_files[(num_train + num_tune):]"
   ]
  },
  {
   "cell_type": "code",
   "execution_count": null,
   "metadata": {},
   "outputs": [],
   "source": [
    "#y_pred = model.predict(X_test).ravel()\n",
    "a = list(mn2_b.predict(X_test).ravel())\n",
    "y_pred = []\n",
    "for i in a:\n",
    "    if i >= 0.5:\n",
    "        y_pred.append(1)\n",
    "    else:\n",
    "        y_pred.append(0)"
   ]
  },
  {
   "cell_type": "code",
   "execution_count": null,
   "metadata": {},
   "outputs": [],
   "source": [
    "cpy = []\n",
    "\n",
    "for i in range(len(y_test_images)):\n",
    "    a = skin_df.loc[skin_df['image_id']== y_test_images[i]].values.tolist()[0]\n",
    "    a.append(y_test[i])\n",
    "    a.append(y_pred[i])\n",
    "    if y_test[i] == 1 and y_pred[i] == 1:\n",
    "        a.append('TP')\n",
    "    elif y_test[i] == 0 and y_pred[i] == 0:\n",
    "        a.append('TN')\n",
    "    elif y_test[i] == 1 and y_pred[i] == 0:\n",
    "        a.append('FN')\n",
    "    elif y_test[i] == 0 and y_pred[i] == 1:\n",
    "        a.append('FP')\n",
    "    cpy.append(a)\n",
    "\n",
    "cpy_df = pd.DataFrame(cpy)"
   ]
  },
  {
   "cell_type": "code",
   "execution_count": null,
   "metadata": {},
   "outputs": [],
   "source": [
    "# Plot to see distribution of 7 different classes of cell type\n",
    "print(cpy_df[7].value_counts())\n",
    "cpy_df[7].value_counts().plot(kind='bar')"
   ]
  },
  {
   "cell_type": "code",
   "execution_count": null,
   "metadata": {},
   "outputs": [],
   "source": [
    "print(cpy_df.loc[cpy_df[12].isin(['FP','FN'])][7].value_counts())\n",
    "cpy_df.loc[cpy_df[12].isin(['FP','FN'])][7].value_counts().plot(kind='bar')"
   ]
  },
  {
   "cell_type": "code",
   "execution_count": null,
   "metadata": {},
   "outputs": [],
   "source": [
    "# Plot to see distribution of benigns & malignant\n",
    "print(cpy_df[9].value_counts())\n",
    "cpy_df[9].value_counts().plot(kind='bar')"
   ]
  },
  {
   "cell_type": "code",
   "execution_count": null,
   "metadata": {},
   "outputs": [],
   "source": [
    "print(cpy_df.loc[cpy_df[12].isin(['FP','FN'])][9].value_counts())\n",
    "cpy_df.loc[cpy_df[12].isin(['FP','FN'])][9].value_counts().plot(kind='bar')"
   ]
  },
  {
   "cell_type": "code",
   "execution_count": null,
   "metadata": {},
   "outputs": [],
   "source": [
    "tf.math.confusion_matrix(\n",
    "    y_test, y_pred, num_classes=2, weights=None, dtype=tf.dtypes.int32,\n",
    "    name=None\n",
    ")"
   ]
  }
 ],
 "metadata": {
  "kernelspec": {
   "display_name": "Python 3",
   "language": "python",
   "name": "python3"
  },
  "language_info": {
   "codemirror_mode": {
    "name": "ipython",
    "version": 3
   },
   "file_extension": ".py",
   "mimetype": "text/x-python",
   "name": "python",
   "nbconvert_exporter": "python",
   "pygments_lexer": "ipython3",
   "version": "3.6.10"
  }
 },
 "nbformat": 4,
 "nbformat_minor": 4
}
